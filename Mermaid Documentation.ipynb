{
 "cells": [
  {
   "cell_type": "markdown",
   "id": "47380ed2",
   "metadata": {},
   "source": [
    "### Mermaid.js used in Python (DOCUMENTATION)"
   ]
  },
  {
   "cell_type": "code",
   "execution_count": 12,
   "id": "1239ec63",
   "metadata": {},
   "outputs": [],
   "source": [
    "# Documentation : https://mermaid-js.github.io/mermaid/#/Tutorials\n",
    "# Edge Case: https://stackoverflow.com/questions/54311261/spaces-in-mermaid"
   ]
  },
  {
   "cell_type": "code",
   "execution_count": 13,
   "id": "49e79b73",
   "metadata": {},
   "outputs": [],
   "source": [
    "import pandas as pd"
   ]
  },
  {
   "cell_type": "code",
   "execution_count": 14,
   "id": "7fc307c2",
   "metadata": {},
   "outputs": [],
   "source": [
    "import base64\n",
    "from IPython.display import Image, display\n",
    "import matplotlib.pyplot as plt\n",
    "\n",
    "def mm(graph):\n",
    "  graphbytes = graph.encode(\"ascii\")\n",
    "  base64_bytes = base64.b64encode(graphbytes)\n",
    "  base64_string = base64_bytes.decode(\"ascii\")\n",
    "  display(Image(url=\"https://mermaid.ink/img/\" + base64_string))"
   ]
  },
  {
   "cell_type": "code",
   "execution_count": 15,
   "id": "cef1502a",
   "metadata": {},
   "outputs": [],
   "source": [
    "# Demo code to use Mermaid\n",
    "# mm(\"\"\"\n",
    "# graph LR;\n",
    "#     A--> B & C & D;\n",
    "#     B--> A & E;\n",
    "#     C--> A & E;\n",
    "#     D--> A & E;\n",
    "#     E--> B & C & D;\n",
    "# \"\"\")"
   ]
  },
  {
   "cell_type": "code",
   "execution_count": 16,
   "id": "85305ad9",
   "metadata": {},
   "outputs": [
    {
     "data": {
      "text/html": [
       "<div>\n",
       "<style scoped>\n",
       "    .dataframe tbody tr th:only-of-type {\n",
       "        vertical-align: middle;\n",
       "    }\n",
       "\n",
       "    .dataframe tbody tr th {\n",
       "        vertical-align: top;\n",
       "    }\n",
       "\n",
       "    .dataframe thead th {\n",
       "        text-align: right;\n",
       "    }\n",
       "</style>\n",
       "<table border=\"1\" class=\"dataframe\">\n",
       "  <thead>\n",
       "    <tr style=\"text-align: right;\">\n",
       "      <th></th>\n",
       "      <th>Calculation</th>\n",
       "      <th>Base Fields</th>\n",
       "    </tr>\n",
       "  </thead>\n",
       "  <tbody>\n",
       "    <tr>\n",
       "      <th>0</th>\n",
       "      <td>Profit</td>\n",
       "      <td>Sales,Cost</td>\n",
       "    </tr>\n",
       "    <tr>\n",
       "      <th>1</th>\n",
       "      <td>Gross Margin</td>\n",
       "      <td>Profit,Discount</td>\n",
       "    </tr>\n",
       "  </tbody>\n",
       "</table>\n",
       "</div>"
      ],
      "text/plain": [
       "    Calculation      Base Fields\n",
       "0        Profit       Sales,Cost\n",
       "1  Gross Margin  Profit,Discount"
      ]
     },
     "execution_count": 16,
     "metadata": {},
     "output_type": "execute_result"
    }
   ],
   "source": [
    "df = pd.DataFrame(list(zip(['Profit','Gross Margin'], ['Sales,Cost','Profit,Discount'])),\n",
    "               columns =['Calculation','Base Fields'])\n",
    "df"
   ]
  },
  {
   "cell_type": "code",
   "execution_count": 17,
   "id": "e31eca18",
   "metadata": {},
   "outputs": [],
   "source": [
    "def custom_df_to_graph_convertor(df,col1,col2):\n",
    "    # So idea is we will create two lists out of two cols and then convert that list into string because mermaid needs string\n",
    "    # Now,in string also : If there is some space in left side->it breaks if you dont write it inside id1[]\n",
    "    df_name_field=[('id1['+str(i)+']' if ' ' in str(i) else i)+'-->' + str(j).replace(',',' & ')+';' for i,j in zip(df[col1],df[col2]) ]\n",
    "    newstring=' '.join(map(str, df_name_field))\n",
    "    return newstring\n",
    "    "
   ]
  },
  {
   "cell_type": "code",
   "execution_count": 18,
   "id": "8b7c0c8f",
   "metadata": {},
   "outputs": [
    {
     "data": {
      "text/html": [
       "<img src=\"https://mermaid.ink/img/CmdyYXBoIFRCOwogICBQcm9maXQtLT5TYWxlcyAmIENvc3Q7IGlkMVtHcm9zcyBNYXJnaW5dLS0+UHJvZml0ICYgRGlzY291bnQ7IAo=\"/>"
      ],
      "text/plain": [
       "<IPython.core.display.Image object>"
      ]
     },
     "metadata": {},
     "output_type": "display_data"
    }
   ],
   "source": [
    "mm(\"\"\"\n",
    "graph TB;\n",
    "   {newstring} \n",
    "\"\"\".format(newstring=custom_df_to_graph_convertor(df,'Calculation','Base Fields')))"
   ]
  }
 ],
 "metadata": {
  "kernelspec": {
   "display_name": "Python 3 (ipykernel)",
   "language": "python",
   "name": "python3"
  },
  "language_info": {
   "codemirror_mode": {
    "name": "ipython",
    "version": 3
   },
   "file_extension": ".py",
   "mimetype": "text/x-python",
   "name": "python",
   "nbconvert_exporter": "python",
   "pygments_lexer": "ipython3",
   "version": "3.9.12"
  }
 },
 "nbformat": 4,
 "nbformat_minor": 5
}
